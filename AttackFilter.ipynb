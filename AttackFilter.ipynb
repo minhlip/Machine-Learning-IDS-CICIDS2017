{
  "nbformat": 4,
  "nbformat_minor": 0,
  "metadata": {
    "colab": {
      "provenance": [],
      "mount_file_id": "1nvYqQF03DcGkv6Zw3k5tc1oVnvcn3A0w",
      "authorship_tag": "ABX9TyN0W+u39PeYUOKAGDqOI4aD",
      "include_colab_link": true
    },
    "kernelspec": {
      "name": "python3",
      "display_name": "Python 3"
    },
    "language_info": {
      "name": "python"
    }
  },
  "cells": [
    {
      "cell_type": "markdown",
      "metadata": {
        "id": "view-in-github",
        "colab_type": "text"
      },
      "source": [
        "<a href=\"https://colab.research.google.com/github/minhlip/Machine-Learning-IDS-CICIDS2017/blob/main/AttackFilter.ipynb\" target=\"_parent\"><img src=\"https://colab.research.google.com/assets/colab-badge.svg\" alt=\"Open In Colab\"/></a>"
      ]
    },
    {
      "cell_type": "code",
      "execution_count": 10,
      "metadata": {
        "colab": {
          "base_uri": "https://localhost:8080/"
        },
        "id": "xUyqXFwvIF2d",
        "outputId": "543f8c52-9d98-4676-a183-26c50469521e"
      },
      "outputs": [
        {
          "output_type": "stream",
          "name": "stdout",
          "text": [
            "Heartbleed file is completed\n",
            "Attack: 11\n",
            "Benign: 25\n",
            "\n",
            "Total: 36\n",
            "\n",
            "DoS Hulk file is completed\n",
            "Attack: 230124\n",
            "Benign: 536956\n",
            "\n",
            "Total: 767080\n",
            "\n",
            "DoS GoldenEye file is completed\n",
            "Attack: 10293\n",
            "Benign: 24017\n",
            "\n",
            "Total: 34310\n",
            "\n",
            "PortScan file is completed\n",
            "Attack: 158930\n",
            "Benign: 370836\n",
            "\n",
            "Total: 529766\n",
            "\n",
            "SSH-Patator file is completed\n",
            "Attack: 5897\n",
            "Benign: 13759\n",
            "\n",
            "Total: 19656\n",
            "\n",
            "DoS Slowhttptest file is completed\n",
            "Attack: 5499\n",
            "Benign: 12831\n",
            "\n",
            "Total: 18330\n",
            "\n",
            "DDoS file is completed\n",
            "Attack: 128027\n",
            "Benign: 298729\n",
            "\n",
            "Total: 426756\n",
            "\n",
            "Infiltration file is completed\n",
            "Attack: 36\n",
            "Benign: 84\n",
            "\n",
            "Total: 120\n",
            "\n",
            "FTP-Patator file is completed\n",
            "Attack: 7938\n",
            "Benign: 18522\n",
            "\n",
            "Total: 26460\n",
            "\n",
            "DoS slowloris file is completed\n",
            "Attack: 5796\n",
            "Benign: 13524\n",
            "\n",
            "Total: 19320\n",
            "\n",
            "Web Attack file is completed\n",
            "Attack: 2180\n",
            "Benign: 5086\n",
            "\n",
            "Total: 7266\n",
            "\n",
            "Mission accomplished!\n",
            "Operation time: 103.70837020874023 seconds\n"
          ]
        }
      ],
      "source": [
        "import pandas as pd\n",
        "import time\n",
        "\n",
        "# Đọc dữ liệu từ file all_data_merged.csv\n",
        "data = pd.read_csv('/content/drive/MyDrive/CSVs/all_data_merged.csv')\n",
        "\n",
        "# Danh sách các loại tấn công\n",
        "attacks=[\n",
        " 'Heartbleed',\n",
        " 'DoS Hulk',\n",
        " 'DoS GoldenEye',\n",
        " 'PortScan',\n",
        " 'SSH-Patator',\n",
        " 'DoS Slowhttptest',\n",
        " 'DDoS',\n",
        " 'Infiltration',\n",
        " 'FTP-Patator',\n",
        " 'DoS slowloris'\n",
        " ]\n",
        "\n",
        "web_attacks = [\n",
        " 'Web Attack - Brute Force',\n",
        " 'Web Attack - Sql Injection',\n",
        " 'Web Attack - XSS'\n",
        "]\n",
        "\n",
        "# Bắt đầu đếm thời gian\n",
        "start_time = time.time()\n",
        "\n",
        "for attack in attacks:\n",
        "    attack_data = data[data['Label'] == attack]\n",
        "    benign_data = data[data['Label'] == 'BENIGN'].sample(n=len(attack_data)*7//3, replace=True, random_state=1)\n",
        "\n",
        "    combined_data = pd.concat([attack_data, benign_data])\n",
        "    combined_data = combined_data.sample(frac=1, random_state=1)\n",
        "    combined_data.to_csv('/content/drive/MyDrive/CSVs/attacks/' + attack + '.csv', index=False)\n",
        "\n",
        "    # In thông tin\n",
        "    print(f'{attack} file is completed')\n",
        "    print(f'Attack: {len(attack_data)}')\n",
        "    print(f'Benign: {len(benign_data)}\\n')\n",
        "    print(f'Total: {len(combined_data)}\\n')\n",
        "\n",
        "\n",
        "web_attack_data = data[data['Label'].isin(web_attacks)]\n",
        "benign_data = data[data['Label'] == 'BENIGN'].sample(n=len(web_attack_data)*7//3, replace=True, random_state=1)\n",
        "combined_web_data = pd.concat([web_attack_data, benign_data])\n",
        "combined_web_data = combined_web_data.sample(frac=1, random_state=1)\n",
        "combined_web_data.to_csv('/content/drive/MyDrive/CSVs/attacks/Web Attack.csv', index=False)\n",
        "\n",
        "print('Web Attack file is completed')\n",
        "print(f'Attack: {len(web_attack_data)}')\n",
        "print(f'Benign: {len(benign_data)}\\n')\n",
        "print(f'Total: {len(combined_web_data)}\\n')\n",
        "\n",
        "\n",
        "print(\"Mission accomplished!\")\n",
        "print(f\"Operation time: {(time.time() - start_time)} seconds\")"
      ]
    },
    {
      "cell_type": "code",
      "source": [
        "df1 = pd.read_csv('/content/drive/MyDrive/CSVs/attacks/DoS Hulk.csv')\n",
        "df1['Label'].value_counts()"
      ],
      "metadata": {
        "colab": {
          "base_uri": "https://localhost:8080/"
        },
        "id": "cx_p29zpI2D2",
        "outputId": "30dca275-8dd4-4d30-fb9e-d7b41768e100"
      },
      "execution_count": 3,
      "outputs": [
        {
          "output_type": "execute_result",
          "data": {
            "text/plain": [
              "Label\n",
              "BENIGN      536956\n",
              "DoS Hulk    230124\n",
              "Name: count, dtype: int64"
            ]
          },
          "metadata": {},
          "execution_count": 3
        }
      ]
    },
    {
      "cell_type": "code",
      "source": [
        "data['Label'].value_counts()"
      ],
      "metadata": {
        "colab": {
          "base_uri": "https://localhost:8080/"
        },
        "id": "pOP9kFczKWzq",
        "outputId": "c424ad1e-f34a-464e-c183-7bdeb52c84ef"
      },
      "execution_count": 8,
      "outputs": [
        {
          "output_type": "execute_result",
          "data": {
            "text/plain": [
              "Label\n",
              "BENIGN                        2272688\n",
              "DoS Hulk                       230124\n",
              "PortScan                       158930\n",
              "DDoS                           128027\n",
              "DoS GoldenEye                   10293\n",
              "FTP-Patator                      7938\n",
              "SSH-Patator                      5897\n",
              "DoS slowloris                    5796\n",
              "DoS Slowhttptest                 5499\n",
              "Bot                              1966\n",
              "Web Attack - Brute Force         1507\n",
              "Web Attack - XSS                  652\n",
              "Infiltration                       36\n",
              "Web Attack - Sql Injection         21\n",
              "Heartbleed                         11\n",
              "Name: count, dtype: int64"
            ]
          },
          "metadata": {},
          "execution_count": 8
        }
      ]
    }
  ]
}